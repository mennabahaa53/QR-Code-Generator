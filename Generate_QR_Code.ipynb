{
 "cells": [
  {
   "cell_type": "code",
   "execution_count": 3,
   "id": "5ad80bcc",
   "metadata": {},
   "outputs": [
    {
     "name": "stdout",
     "output_type": "stream",
     "text": [
      "Generated and saved QR code for John_Doe to qr_codes\\John_Doe.png\n",
      "Generated and saved QR code for Jane_Smith to qr_codes\\Jane_Smith.png\n",
      "QR code generation for different people is complete.\n"
     ]
    }
   ],
   "source": [
    "import qrcode\n",
    "import os\n",
    "\n",
    "# Directory to save QR codes\n",
    "qr_codes_dir = \"qr_codes\"\n",
    "\n",
    "# Server URL (replace with your actual server URL)\n",
    "server_url = \"http://localhost:5000/use_qr\"\n",
    "\n",
    "# List of people's data (you can customize this with your actual data)\n",
    "people = [\n",
    "    {\"name\": \"John Doe\", \"phone\": \"123-456-7890\", \"email\": \"john.doe@example.com\"},\n",
    "    {\"name\": \"Jane Smith\", \"phone\": \"098-765-4321\", \"email\": \"jane.smith@example.com\"},\n",
    "    # Add more people as needed\n",
    "]\n",
    "\n",
    "# Ensure the directory exists\n",
    "if not os.path.exists(qr_codes_dir):\n",
    "    os.makedirs(qr_codes_dir)\n",
    "\n",
    "# Generate QR codes for each person\n",
    "for person in people:\n",
    "    # Unique identifier for the QR code (use the name as an identifier)\n",
    "    qr_id = f\"{person['name'].replace(' ', '_')}\"\n",
    "\n",
    "    # URL with unique ID to mark as used\n",
    "    data = f\"{server_url}/{qr_id}\"\n",
    "\n",
    "    # Generate QR code\n",
    "    img = qrcode.make(data)\n",
    "\n",
    "    # Save the QR code image\n",
    "    qr_code_file = os.path.join(qr_codes_dir, f\"{qr_id}.png\")\n",
    "    img.save(qr_code_file)\n",
    "    \n",
    "    print(f\"Generated and saved QR code for {qr_id} to {qr_code_file}\")\n",
    "\n",
    "print(\"QR code generation for different people is complete.\")\n"
   ]
  }
 ],
 "metadata": {
  "kernelspec": {
   "display_name": "Python 3 (ipykernel)",
   "language": "python",
   "name": "python3"
  },
  "language_info": {
   "codemirror_mode": {
    "name": "ipython",
    "version": 3
   },
   "file_extension": ".py",
   "mimetype": "text/x-python",
   "name": "python",
   "nbconvert_exporter": "python",
   "pygments_lexer": "ipython3",
   "version": "3.11.4"
  }
 },
 "nbformat": 4,
 "nbformat_minor": 5
}
