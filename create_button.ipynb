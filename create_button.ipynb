{
 "cells": [
  {
   "cell_type": "code",
   "execution_count": 14,
   "id": "aa303e1b",
   "metadata": {},
   "outputs": [],
   "source": [
    "import tkinter as tk"
   ]
  },
  {
   "cell_type": "code",
   "execution_count": 36,
   "id": "fad17473",
   "metadata": {},
   "outputs": [],
   "source": [
    "def click():\n",
    "    print(\"click\")\n",
    "root=tk.Tk()\n",
    "\n",
    "def create_button(button):\n",
    "    \n",
    "    button=tk.button(\n",
    "                root,\n",
    "                text=\"\",\n",
    "                command=click,\n",
    "                activebackground=\"White\",\n",
    "                activeforeground=\"Blue\",\n",
    "                anchor=\"\",\n",
    "                bg=\"\",\n",
    "                highlightbackground=\"\",\n",
    "                highlightcolor=\"\",\n",
    "                highlightthickness=2,\n",
    "                justify=\"\",\n",
    "                overlief=\"\",\n",
    "                padex=10,\n",
    "                pady=15,\n",
    "                width=5,\n",
    "                raplength=10)  \n",
    "    \n"
   ]
  },
  {
   "cell_type": "code",
   "execution_count": 37,
   "id": "393c1c0a",
   "metadata": {},
   "outputs": [
    {
     "ename": "SyntaxError",
     "evalue": "positional argument follows keyword argument (2458873001.py, line 14)",
     "output_type": "error",
     "traceback": [
      "\u001b[1;36m  Cell \u001b[1;32mIn[37], line 14\u001b[1;36m\u001b[0m\n\u001b[1;33m    raplength=10)\u001b[0m\n\u001b[1;37m                ^\u001b[0m\n\u001b[1;31mSyntaxError\u001b[0m\u001b[1;31m:\u001b[0m positional argument follows keyword argument\n"
     ]
    }
   ],
   "source": [
    "button1=create_button.button(root,\n",
    "                             text=\"Home Page\",\n",
    "                             command, \n",
    "                             activebackground=\"center\",\n",
    "                             bg=\"Black\",\n",
    "                             highlightbackground=\"black\",\n",
    "                             highlightcolor=\"blue\",\n",
    "                             highlightthickness=2,\n",
    "                             justify=\"center\",\n",
    "                             overlief=\"raised\",\n",
    "                             padex=10,\n",
    "                             pady=15,\n",
    "                             width=5,\n",
    "                             raplength=10)\n",
    "button1.pack(padex=10,pady=15)"
   ]
  }
 ],
 "metadata": {
  "kernelspec": {
   "display_name": "Python 3 (ipykernel)",
   "language": "python",
   "name": "python3"
  },
  "language_info": {
   "codemirror_mode": {
    "name": "ipython",
    "version": 3
   },
   "file_extension": ".py",
   "mimetype": "text/x-python",
   "name": "python",
   "nbconvert_exporter": "python",
   "pygments_lexer": "ipython3",
   "version": "3.11.4"
  }
 },
 "nbformat": 4,
 "nbformat_minor": 5
}
